{
 "cells": [
  {
   "cell_type": "code",
   "execution_count": null,
   "metadata": {},
   "outputs": [],
   "source": [
    "import pyodbc\n",
    "\n",
    "server = 'dist-6-505.uopnet.plymouth.ac.uk'\n",
    "database = 'COMP2001_MHardy'\n",
    "username = 'MHardy'\n",
    "password = 'OwhO778+'\n",
    "driver = '{ODBC Driver 18 for SQL Server}'\n",
    "conn_str = (\n",
    "    f'DRIVER={driver};'\n",
    "    f'SERVER={server};'\n",
    "    f'DATABASE={database};'\n",
    "    f'UID={username};'\n",
    "    f'PWD={password};'\n",
    "    'Encrypt=Yes;'\n",
    "    'TrustServerCertificate=Yes;'\n",
    "    'Connection Timeout=30;'\n",
    "    'Trusted_Connection=No'\n",
    ")\n",
    "\n",
    "conn = pyodbc.connect(conn_str)\n",
    "cursor = conn.cursor()"
   ]
  },
  {
   "cell_type": "code",
   "execution_count": 42,
   "metadata": {},
   "outputs": [],
   "source": [
    "cursor.execute('''\n",
    "CREATE SCHEMA CW2\n",
    "''')\n",
    "\n",
    "conn.commit()"
   ]
  },
  {
   "cell_type": "code",
   "execution_count": 41,
   "metadata": {},
   "outputs": [],
   "source": [
    "cursor.execute('''\n",
    "DROP SCHEMA CW2\n",
    "''')\n",
    "\n",
    "conn.commit()"
   ]
  },
  {
   "cell_type": "code",
   "execution_count": 69,
   "metadata": {},
   "outputs": [],
   "source": [
    "cursor.execute('''\n",
    "CREATE TABLE CW2.[User](\n",
    "    user_id VARCHAR(6) NOT NULL,\n",
    "    email_address VARCHAR(50) NOT NULL,\n",
    "    password VARCHAR(20) NOT NULL,\n",
    "    role VARCHAR(5) NOT NULL,\n",
    "    username VARCHAR(64) NOT NULL,\n",
    "    \n",
    "    CHECK (user_id LIKE '[U][R][0-9][0-9][0-9][0-9]'),\n",
    "    CHECK (email_address LIKE '%__@__%.__%'),\n",
    "    CHECK (role = 'user' OR role = 'owner'),\n",
    "\n",
    "    CONSTRAINT PK_user_id PRIMARY KEY (user_id)\n",
    "    )\n",
    "''')\n",
    "\n",
    "conn.commit()"
   ]
  },
  {
   "cell_type": "code",
   "execution_count": 68,
   "metadata": {},
   "outputs": [],
   "source": [
    "conn.execute(''' \n",
    "DROP TABLE CW2.[User]          \n",
    "''')\n",
    "\n",
    "conn.commit()"
   ]
  },
  {
   "cell_type": "code",
   "execution_count": 70,
   "metadata": {},
   "outputs": [],
   "source": [
    "conn.execute('''\n",
    "CREATE TABLE CW2.Trail(\n",
    "    trail_id VARCHAR(6) NOT NULL,\n",
    "    trail_name VARCHAR(128) NOT NULL,\n",
    "    trail_summary VARCHAR(255) NOT NULL,\n",
    "    trail_description VARCHAR(255) NOT NULL,\n",
    "    difficulty VARCHAR(8) NOT NULL,\n",
    "    location VARCHAR(128) NOT NULL,\n",
    "    length FLOAT NOT NULL,\n",
    "    elevation_gain INT NOT NULL,\n",
    "    route_type VARCHAR(14) NOT NULL,\n",
    "    owner_id VARCHAR(6) NOT NULL,\n",
    "    pt1_lat FLOAT NOT NULL,\n",
    "    pt1_long FLOAT NOT NULL,\n",
    "    pt1_desc VARCHAR(255),\n",
    "    pt2_lat FLOAT NOT NULL,\n",
    "    pt2_long FLOAT NOT NULL,\n",
    "    pt2_desc VARCHAR(255),\n",
    "    pt3_lat FLOAT NOT NULL,\n",
    "    pt3_long FLOAT NOT NULL,\n",
    "    pt3_desc VARCHAR(255),\n",
    "    pt4_lat FLOAT NOT NULL,\n",
    "    pt4_long FLOAT NOT NULL,\n",
    "    pt4_desc VARCHAR(255),\n",
    "    pt5_lat FLOAT NOT NULL,\n",
    "    pt5_long FLOAT NOT NULL,\n",
    "    pt5_desc VARCHAR(255),\n",
    "\n",
    "    CHECK (trail_id LIKE '[T][R][0-9][0-9][0-9][0-9]'),\n",
    "    CHECK (difficulty = 'Easy' OR difficulty = 'Moderate' OR difficulty = 'Hard'),\n",
    "    CHECK (length > 0.0 AND length <= 999.9),\n",
    "    CHECK (elevation_gain >= 0 AND elevation_gain <= 99999),\n",
    "    CHECK (route_type = 'Loop' OR route_type = 'Out and Back' OR route_type = 'Point to Point'),\n",
    "    CHECK (pt1_lat BETWEEN -90 AND 90),\n",
    "    CHECK (pt2_lat BETWEEN -90 AND 90),\n",
    "    CHECK (pt3_lat BETWEEN -90 AND 90),\n",
    "    CHECK (pt4_lat BETWEEN -90 AND 90),\n",
    "    CHECK (pt5_lat BETWEEN -90 AND 90),\n",
    "    CHECK (pt1_long BETWEEN -180 AND 180),\n",
    "    CHECK (pt2_long BETWEEN -180 AND 180),\n",
    "    CHECK (pt3_long BETWEEN -180 AND 180),\n",
    "    CHECK (pt4_long BETWEEN -180 AND 180),\n",
    "    CHECK (pt5_long BETWEEN -180 AND 180),\n",
    "\n",
    "    CONSTRAINT PK_trail_id PRIMARY KEY (trail_id),\n",
    "    CONSTRAINT FK_owner_id FOREIGN KEY (owner_id) REFERENCES CW2.[User](user_id)\n",
    "    )                  \n",
    "''')\n",
    "\n",
    "conn.commit()"
   ]
  },
  {
   "cell_type": "code",
   "execution_count": 67,
   "metadata": {},
   "outputs": [],
   "source": [
    "conn.execute('''\n",
    "DROP TABLE CW2.Trail\n",
    "''')\n",
    "\n",
    "conn.commit()"
   ]
  },
  {
   "cell_type": "code",
   "execution_count": 73,
   "metadata": {},
   "outputs": [],
   "source": [
    "conn.execute('''\n",
    "CREATE TABLE CW2.Trail_Feature(\n",
    "    trail_id VARCHAR(6) NOT NULL,\n",
    "    trail_feature_id VARCHAR(6) NOT NULL,\n",
    "             \n",
    "    PRIMARY KEY(trail_id, trail_feature_id),\n",
    "            \n",
    "    CONSTRAINT FK_trail_id FOREIGN KEY (trail_id) REFERENCES CW2.Trail (trail_id),\n",
    "    CONSTRAINT FK_trail_feature_id FOREIGN KEY (trail_feature_id) REFERENCES CW2.Feature (trail_feature_id)\n",
    "    )\n",
    "''')\n",
    "\n",
    "conn.commit()"
   ]
  },
  {
   "cell_type": "code",
   "execution_count": 65,
   "metadata": {},
   "outputs": [],
   "source": [
    "conn.execute('''\n",
    "DROP TABLE CW2.Trail_Feature\n",
    "''')\n",
    "\n",
    "conn.commit()"
   ]
  },
  {
   "cell_type": "code",
   "execution_count": 72,
   "metadata": {},
   "outputs": [],
   "source": [
    "conn.execute('''\n",
    "CREATE TABLE CW2.Feature(\n",
    "    trail_feature_id VARCHAR(6) NOT NULL,\n",
    "    trail_feature VARCHAR(255),\n",
    "\n",
    "    CHECK (trail_feature_id LIKE '[T][F][0-9][0-9][0-9][0-9]'),\n",
    "             \n",
    "    CONSTRAINT PK_trail_feature_id PRIMARY KEY (trail_feature_id)\n",
    "    )\n",
    "''')\n",
    "\n",
    "conn.commit()"
   ]
  },
  {
   "cell_type": "code",
   "execution_count": 66,
   "metadata": {},
   "outputs": [],
   "source": [
    "conn.execute('''\n",
    "DROP TABLE CW2.Feature\n",
    "''')\n",
    "\n",
    "conn.commit()"
   ]
  }
 ],
 "metadata": {
  "kernelspec": {
   "display_name": "Python 3",
   "language": "python",
   "name": "python3"
  },
  "language_info": {
   "codemirror_mode": {
    "name": "ipython",
    "version": 3
   },
   "file_extension": ".py",
   "mimetype": "text/x-python",
   "name": "python",
   "nbconvert_exporter": "python",
   "pygments_lexer": "ipython3",
   "version": "3.10.0"
  }
 },
 "nbformat": 4,
 "nbformat_minor": 2
}
