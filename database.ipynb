{
 "cells": [
  {
   "cell_type": "code",
   "execution_count": 2,
   "metadata": {},
   "outputs": [],
   "source": [
    "#Allows connection to the database server\n",
    "\n",
    "import pyodbc\n",
    "\n",
    "server = 'dist-6-505.uopnet.plymouth.ac.uk'\n",
    "database = 'COMP2001_MHardy'\n",
    "username = 'MHardy'\n",
    "password = 'PlymLogin28'\n",
    "driver = '{ODBC Driver 17 for SQL Server}'\n",
    "conn_str = (\n",
    "    f'DRIVER={driver};'\n",
    "    f'SERVER={server};'\n",
    "    f'DATABASE={database};'\n",
    "    f'UID={username};'\n",
    "    f'PWD={password};'\n",
    "    'Encrypt=Yes;'\n",
    "    'TrustServerCertificate=Yes;'\n",
    "    'Connection Timeout=30;'\n",
    "    'Trusted_Connection=No'\n",
    ")\n",
    "\n",
    "conn = pyodbc.connect(conn_str)\n",
    "cursor = conn.cursor()"
   ]
  },
  {
   "cell_type": "code",
   "execution_count": null,
   "metadata": {},
   "outputs": [],
   "source": [
    "#Creates the schema CW2\n",
    "\n",
    "cursor.execute('''\n",
    "CREATE SCHEMA CW2\n",
    "''')\n",
    "\n",
    "conn.commit()"
   ]
  },
  {
   "cell_type": "code",
   "execution_count": null,
   "metadata": {},
   "outputs": [],
   "source": [
    "#Deletes the schema CW2\n",
    "\n",
    "cursor.execute('''\n",
    "DROP SCHEMA CW2\n",
    "''')\n",
    "\n",
    "conn.commit()"
   ]
  },
  {
   "cell_type": "code",
   "execution_count": null,
   "metadata": {},
   "outputs": [],
   "source": [
    "#Creates the table CW2.[User]\n",
    "\n",
    "cursor.execute('''\n",
    "CREATE TABLE CW2.[User](\n",
    "    user_id VARCHAR(6) NOT NULL,\n",
    "    email_address VARCHAR(50) NOT NULL,\n",
    "    password VARCHAR(20) NOT NULL,\n",
    "    role VARCHAR(5) NOT NULL,\n",
    "    username VARCHAR(64) NOT NULL,\n",
    "    \n",
    "    CHECK (user_id LIKE '[U][R][0-9][0-9][0-9][0-9]'),\n",
    "    CHECK (email_address LIKE '%__@__%.__%'),\n",
    "    CHECK (role = 'user' OR role = 'owner'),\n",
    "\n",
    "    CONSTRAINT PK_user_id PRIMARY KEY (user_id)\n",
    "    )\n",
    "''')\n",
    "\n",
    "conn.commit()"
   ]
  },
  {
   "cell_type": "code",
   "execution_count": null,
   "metadata": {},
   "outputs": [],
   "source": [
    "#Deletes the table CW2.[User]\n",
    "\n",
    "conn.execute(''' \n",
    "DROP TABLE CW2.[User]          \n",
    "''')\n",
    "\n",
    "conn.commit()"
   ]
  },
  {
   "cell_type": "code",
   "execution_count": 95,
   "metadata": {},
   "outputs": [],
   "source": [
    "#Creates the table CW2.Trail\n",
    "\n",
    "conn.execute('''\n",
    "CREATE TABLE CW2.Trail(\n",
    "    trail_id VARCHAR(6) NOT NULL,\n",
    "    trail_name VARCHAR(128) NOT NULL,\n",
    "    trail_summary VARCHAR(255) NOT NULL,\n",
    "    trail_description VARCHAR(255) NOT NULL,\n",
    "    difficulty VARCHAR(8) NOT NULL,\n",
    "    location VARCHAR(128) NOT NULL,\n",
    "    length FLOAT NOT NULL,\n",
    "    elevation_gain INT NOT NULL,\n",
    "    route_type VARCHAR(14) NOT NULL,\n",
    "    owner_id VARCHAR(6) NOT NULL,\n",
    "    pt1_lat FLOAT NOT NULL,\n",
    "    pt1_long FLOAT NOT NULL,\n",
    "    pt1_desc VARCHAR(255),\n",
    "    pt2_lat FLOAT NOT NULL,\n",
    "    pt2_long FLOAT NOT NULL,\n",
    "    pt2_desc VARCHAR(255),\n",
    "    pt3_lat FLOAT NOT NULL,\n",
    "    pt3_long FLOAT NOT NULL,\n",
    "    pt3_desc VARCHAR(255),\n",
    "    pt4_lat FLOAT NOT NULL,\n",
    "    pt4_long FLOAT NOT NULL,\n",
    "    pt4_desc VARCHAR(255),\n",
    "    pt5_lat FLOAT NOT NULL,\n",
    "    pt5_long FLOAT NOT NULL,\n",
    "    pt5_desc VARCHAR(255),\n",
    "\n",
    "    CHECK (trail_id LIKE '[T][R][0-9][0-9][0-9][0-9]'),\n",
    "    CHECK (difficulty = 'Easy' OR difficulty = 'Moderate' OR difficulty = 'Hard'),\n",
    "    CHECK (length > 0.0 AND length <= 999.9),\n",
    "    CHECK (elevation_gain >= 0 AND elevation_gain <= 99999),\n",
    "    CHECK (route_type = 'Loop' OR route_type = 'Out and Back' OR route_type = 'Point to Point'),\n",
    "    CHECK (pt1_lat BETWEEN -90.0 AND 90.0),\n",
    "    CHECK (pt2_lat BETWEEN -90.0 AND 90.0),\n",
    "    CHECK (pt3_lat BETWEEN -90.0 AND 90.0),\n",
    "    CHECK (pt4_lat BETWEEN -90.0 AND 90.0),\n",
    "    CHECK (pt5_lat BETWEEN -90.0 AND 90.0),\n",
    "    CHECK (pt1_long BETWEEN -180.0 AND 180.0),\n",
    "    CHECK (pt2_long BETWEEN -180.0 AND 180.0),\n",
    "    CHECK (pt3_long BETWEEN -180.0 AND 180.0),\n",
    "    CHECK (pt4_long BETWEEN -180.0 AND 180.0),\n",
    "    CHECK (pt5_long BETWEEN -180.0 AND 180.0),\n",
    "\n",
    "    CONSTRAINT PK_trail_id PRIMARY KEY (trail_id),\n",
    "    CONSTRAINT FK_owner_id FOREIGN KEY (owner_id) REFERENCES CW2.[User](user_id)\n",
    "    )                  \n",
    "''')\n",
    "\n",
    "conn.commit()"
   ]
  },
  {
   "cell_type": "code",
   "execution_count": 92,
   "metadata": {},
   "outputs": [],
   "source": [
    "#Deletes the table CW2.Trail\n",
    "\n",
    "conn.execute('''\n",
    "DROP TABLE CW2.Trail\n",
    "''')\n",
    "\n",
    "conn.commit()"
   ]
  },
  {
   "cell_type": "code",
   "execution_count": 98,
   "metadata": {},
   "outputs": [],
   "source": [
    "#Creates the table CW2.Trail_Feature\n",
    "\n",
    "conn.execute('''\n",
    "CREATE TABLE CW2.Trail_Feature(\n",
    "    trail_id VARCHAR(6) NOT NULL,\n",
    "    trail_feature_id VARCHAR(6) NOT NULL,\n",
    "             \n",
    "    PRIMARY KEY(trail_id, trail_feature_id),\n",
    "            \n",
    "    CONSTRAINT FK_trail_id FOREIGN KEY (trail_id) REFERENCES CW2.Trail (trail_id),\n",
    "    CONSTRAINT FK_trail_feature_id FOREIGN KEY (trail_feature_id) REFERENCES CW2.Feature (trail_feature_id)\n",
    "    )\n",
    "''')\n",
    "\n",
    "conn.commit()"
   ]
  },
  {
   "cell_type": "code",
   "execution_count": 90,
   "metadata": {},
   "outputs": [],
   "source": [
    "#Deletes the table CW2.Trail_Feature\n",
    "\n",
    "conn.execute('''\n",
    "DROP TABLE CW2.Trail_Feature\n",
    "''')\n",
    "\n",
    "conn.commit()"
   ]
  },
  {
   "cell_type": "code",
   "execution_count": 97,
   "metadata": {},
   "outputs": [],
   "source": [
    "#Creates the table CW2.Feature\n",
    "\n",
    "conn.execute('''\n",
    "CREATE TABLE CW2.Feature(\n",
    "    trail_feature_id VARCHAR(6) NOT NULL,\n",
    "    trail_feature VARCHAR(255),\n",
    "\n",
    "    CHECK (trail_feature_id LIKE '[T][F][0-9][0-9][0-9][0-9]'),\n",
    "             \n",
    "    CONSTRAINT PK_trail_feature_id PRIMARY KEY (trail_feature_id)\n",
    "    )\n",
    "''')\n",
    "\n",
    "conn.commit()"
   ]
  },
  {
   "cell_type": "code",
   "execution_count": 91,
   "metadata": {},
   "outputs": [],
   "source": [
    "#Deletes the table CW2.Feature\n",
    "\n",
    "conn.execute('''\n",
    "DROP TABLE CW2.Feature\n",
    "''')\n",
    "\n",
    "conn.commit()"
   ]
  },
  {
   "cell_type": "code",
   "execution_count": null,
   "metadata": {},
   "outputs": [],
   "source": [
    "#Inserts data into the table CW2.[User]\n",
    "\n",
    "conn.execute('''\n",
    "INSERT INTO CW2.[User](user_id, email_address, password, role, username)\n",
    "    VALUES\n",
    "        ('UR0001', 'grace@plymouth.ac.uk', 'ISAD123!', 'user', 'Grace Hopper'),\n",
    "        ('UR0002', 'tim@plymouth.ac.uk', 'COMP2001!', 'user', 'Tim Berners-Lee'),\n",
    "        ('UR0003', 'ada@plymouth.ac.uk', 'insecurePassword', 'user', 'Ada Lovelace');\n",
    "''')\n",
    "\n",
    "conn.commit()"
   ]
  },
  {
   "cell_type": "code",
   "execution_count": null,
   "metadata": {},
   "outputs": [],
   "source": [
    "#Inserts data into the table CW2.Trail\n",
    "\n",
    "conn.execute('''\n",
    "INSERT INTO CW2.Trail(trail_id, trail_name, trail_summary, trail_description, difficulty, location, length, elevation_gain, route_type, owner_id, pt1_lat, pt1_long, pt1_desc, pt2_lat, pt2_long, pt2_desc, pt3_lat, pt3_long, pt3_desc, pt4_lat, pt4_long, pt4_desc, pt5_lat, pt5_long, pt5_desc)\n",
    "    VALUES\n",
    "        ('TR0001', 'Sunny Ridge Trail', 'A beautiful sunny trail.', 'This trail offers stunning views of the surrounding mountains.', 'Easy', 'California, USA', 5.2, 150, 'Loop', 'UR0001', 34.05, -118.25, 'Start at the city park.', 34.07, -118.26, 'Pass through the forest.', 34.09, -118.27, 'Climb to the viewpoint.', 34.10, -118.25, 'Head back through the valley.', 34.05, -118.25, 'Return to the park.'),\n",
    "        ('TR0002', 'Rocky Pass', 'A challenging rocky trail.', 'Navigate steep rocks and narrow paths.', 'Hard', 'Colorado, USA', 8.5, 800, 'Out and Back', 'UR0001', 39.55, -105.78, 'Trailhead parking.', 39.57, -105.77, 'First ascent.', 39.58, -105.75, 'Viewpoint at the summit.', 39.57, -105.77, 'Descend back.', 39.55, -105.78, 'Return to parking.'),\n",
    "        ('TR0003', 'Green Valley Path', 'A moderate trail through meadows.', 'Explore rolling meadows and quiet creeks.', 'Moderate', 'Oregon, USA', 12.3, 250, 'Point to Point', 'UR0003', 44.15, -121.25, 'Trailhead by the parking area.', 44.18, -121.20, 'Walk through meadows.', 44.20, -121.15, 'Cross the creek.', 44.22, -121.12, 'End at the picnic area.', 44.22, -121.12, 'N/A'),\n",
    "        ('TR0004', 'Riverbank Walk', 'A scenic walk along the river.', 'Follow the gentle curves of the riverbank.', 'Easy', 'Washington, USA', 3.7, 50, 'Loop', 'UR0003', 47.60, -122.33, 'Begin at the dock.', 47.62, -122.35, 'Pass the boat house.', 47.64, -122.33, 'Walk along the river bend.', 47.62, -122.31, 'Return through the forest.', 47.60, -122.33, 'Finish at the dock.');\n",
    "''')\n",
    "\n",
    "conn.commit()"
   ]
  },
  {
   "cell_type": "code",
   "execution_count": null,
   "metadata": {},
   "outputs": [],
   "source": [
    "#Inserts data into the table CW2.Feature\n",
    "\n",
    "conn.execute('''\n",
    "INSERT INTO CW2.Feature(trail_feature_id, trail_feature)\n",
    "    VALUES\n",
    "        ('TF0001', 'Dogs Allowed'),\n",
    "        ('TF0002', 'Child Friendly'),\n",
    "        ('TF0003', 'Hiking'),\n",
    "        ('TF0004', 'Cave'),\n",
    "        ('TF0005', 'Forest');\n",
    "''')\n",
    "\n",
    "conn.commit()"
   ]
  },
  {
   "cell_type": "code",
   "execution_count": 117,
   "metadata": {},
   "outputs": [],
   "source": [
    "#Inserts data into the table CW2.Trail_Feature\n",
    "\n",
    "conn.execute('''\n",
    "INSERT INTO CW2.Trail_Feature(trail_id, trail_feature_id)\n",
    "    VALUES\n",
    "        ('TR0001', 'TF0001'),\n",
    "        ('TR0001', 'TF0002'),\n",
    "        ('TR0001', 'TF0005'),\n",
    "        ('TR0002', 'TF0002'),\n",
    "        ('TR0002', 'TF0004'),\n",
    "        ('TR0003', 'TF0003'),\n",
    "        ('TR0003', 'TF0004'),\n",
    "        ('TR0003', 'TF0005'),\n",
    "        ('TR0004', 'TF0003');\n",
    "''')\n",
    "\n",
    "conn.commit()"
   ]
  }
 ],
 "metadata": {
  "kernelspec": {
   "display_name": "Python 3",
   "language": "python",
   "name": "python3"
  },
  "language_info": {
   "codemirror_mode": {
    "name": "ipython",
    "version": 3
   },
   "file_extension": ".py",
   "mimetype": "text/x-python",
   "name": "python",
   "nbconvert_exporter": "python",
   "pygments_lexer": "ipython3",
   "version": "3.10.0"
  }
 },
 "nbformat": 4,
 "nbformat_minor": 2
}
